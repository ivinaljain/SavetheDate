{
 "cells": [
  {
   "cell_type": "code",
   "execution_count": 1,
   "metadata": {},
   "outputs": [
    {
     "data": {
      "text/plain": [
       "True"
      ]
     },
     "execution_count": 1,
     "metadata": {},
     "output_type": "execute_result"
    }
   ],
   "source": [
    "from dotenv import load_dotenv\n",
    "import os\n",
    "# os.chdir(\"/mnt/e/Projects/Vinal-hackathon\")\n",
    "# Load environment variables from .env file\n",
    "load_dotenv()\n"
   ]
  },
  {
   "cell_type": "code",
   "execution_count": 2,
   "metadata": {},
   "outputs": [],
   "source": [
    "\n",
    "# # Retrieve Azure OpenAI credentials\n",
    "# azure_openai_key = os.getenv(\"AZURE_OPENAI_KEY\")\n",
    "# azure_openai_endpoint = os.getenv(\"AZURE_OPENAI_ENDPOINT\")\n",
    "# azure_openai_api_version = os.getenv(\"AZURE_OPENAI_API_VERSION\")\n",
    "\n",
    "# # Ensure the variables are loaded\n",
    "# if not all([azure_openai_key, azure_openai_endpoint, azure_openai_api_version]):\n",
    "#     raise ValueError(\"Missing one or more Azure OpenAI environment variables.\")"
   ]
  },
  {
   "cell_type": "code",
   "execution_count": 3,
   "metadata": {},
   "outputs": [],
   "source": [
    "from langchain_openai import AzureChatOpenAI\n",
    "\n",
    "llm = AzureChatOpenAI(\n",
    "    azure_deployment=\"gpt-4o\",  # or your deployment\n",
    "    api_version=\"2023-12-01-preview\",  # or your api version\n",
    "    temperature=0,\n",
    "    max_tokens=None,\n",
    "    timeout=None,\n",
    "    max_retries=4,\n",
    "    # other params...\n",
    ")"
   ]
  },
  {
   "cell_type": "code",
   "execution_count": 4,
   "metadata": {},
   "outputs": [
    {
     "data": {
      "text/plain": [
       "'The capital of France is **Paris**.'"
      ]
     },
     "execution_count": 4,
     "metadata": {},
     "output_type": "execute_result"
    }
   ],
   "source": [
    "llm.invoke(\"What is the capital of France?\").content"
   ]
  },
  {
   "cell_type": "code",
   "execution_count": 5,
   "metadata": {},
   "outputs": [],
   "source": [
    "from PIL import Image\n",
    "import json\n",
    "from langchain.schema import HumanMessage, SystemMessage\n",
    "import base64\n",
    "\n",
    "# Define the file path\n",
    "file_path = \"user_image.png\"\n"
   ]
  },
  {
   "cell_type": "code",
   "execution_count": 24,
   "metadata": {},
   "outputs": [],
   "source": [
    "\"\"\"\n",
    "event_poster_analyser.py\n",
    "────────────────────────\n",
    "• Sends an image to GPT‑4‑o (or any vision‑capable model)\n",
    "• Expects a strict JSON reply defined by StructuredOutputParser\n",
    "• Auto‑fixes malformed JSON (OutputFixingParser)\n",
    "• Auto‑retries the whole call up to N times (RetryOutputParser)\n",
    "No optional imports – runs on old or new LangChain releases.\n",
    "\"\"\"\n",
    "\n",
    "import base64, json, traceback\n",
    "from pathlib import Path\n",
    "\n",
    "from langchain.chat_models import ChatOpenAI\n",
    "from langchain.schema import SystemMessage, HumanMessage\n",
    "from langchain.prompts import ChatPromptTemplate   # ← always available\n",
    "\n",
    "from langchain.output_parsers import (\n",
    "    ResponseSchema,\n",
    "    StructuredOutputParser,\n",
    "    OutputFixingParser,\n",
    "    RetryOutputParser,\n",
    ")\n",
    "\n",
    "# ───────────────────────── vision LLM ─────────────────────────\n",
    "llm = llm\n",
    "\n",
    "# ───────────────────── JSON schema & parsers ──────────────────\n",
    "schemas = [\n",
    "    ResponseSchema(name=\"is_valid_event_poster\",\n",
    "                   description=\"true if the image shows a legitimate event poster, false otherwise\"),\n",
    "    ResponseSchema(name=\"justification\",\n",
    "                   description=\"One‑sentence rationale\"),\n",
    "    ResponseSchema(name=\"event_name\",\n",
    "                   description=\"Event name or null\"),\n",
    "    ResponseSchema(name=\"event_datetime_iso\",\n",
    "                   description=\"Event date‑time ISO‑8601 or null\"),\n",
    "]\n",
    "\n",
    "base_parser  = StructuredOutputParser.from_response_schemas(schemas)\n",
    "fix_parser   = OutputFixingParser.from_llm(parser=base_parser,  llm=llm)\n",
    "retry_parser = RetryOutputParser.from_llm(  parser=fix_parser, llm=llm, max_retries=2)\n",
    "FORMAT = base_parser.get_format_instructions()\n",
    "\n",
    "# ─────────────────── helper: file → data‑URL ─────────────────\n",
    "def to_data_url(img_path: str | Path) -> str:\n",
    "    img_path = Path(img_path)\n",
    "    mime = f\"image/{img_path.suffix.lstrip('.') or 'png'}\"\n",
    "    data = base64.b64encode(img_path.read_bytes()).decode()\n",
    "    return f\"data:{mime};base64,{data}\"\n",
    "\n",
    "# ─────────────────── main analyse routine ────────────────────\n",
    "def analyse_event_poster(image_path: str | Path) -> dict:\n",
    "    try:\n",
    "        # 1. craft the chat messages\n",
    "        data_url = to_data_url(image_path)\n",
    "        system_msg = SystemMessage(content=\"You are an AI assistant that analyses event posters., todays date is 20 April 2025\")\n",
    "        human_msg  = HumanMessage(\n",
    "            content=[\n",
    "                {\"type\": \"text\",\n",
    "                 \"text\": f\"{FORMAT}\\n\\nAnalyse the image below and respond:\"},\n",
    "                {\"type\": \"image_url\", \"image_url\": {\"url\": data_url}},\n",
    "            ]\n",
    "        )\n",
    "        messages = [system_msg, human_msg]\n",
    "\n",
    "        # 2. turn messages → PromptValue WITHOUT importing ChatPromptValue\n",
    "        prompt_value = ChatPromptTemplate.from_messages(messages).format_prompt()\n",
    "\n",
    "        # 3. call the model\n",
    "        raw_output = llm(messages).content\n",
    "\n",
    "        # 4. parse / auto‑fix / auto‑retry\n",
    "        return retry_parser.parse_with_prompt(raw_output, prompt_value)\n",
    "\n",
    "    except Exception as exc:\n",
    "        return {\n",
    "            \"error\": f\"{type(exc).__name__}: {exc}\",\n",
    "            \"traceback\": traceback.format_exc(),\n",
    "        }\n"
   ]
  },
  {
   "cell_type": "code",
   "execution_count": 25,
   "metadata": {},
   "outputs": [
    {
     "name": "stdout",
     "output_type": "stream",
     "text": [
      "{\n",
      "  \"is_valid_event_poster\": \"true\",\n",
      "  \"justification\": \"The image contains clear details about an event, including the name, date, time, and location.\",\n",
      "  \"event_name\": \"JSOM Spring Fling\",\n",
      "  \"event_datetime_iso\": \"2025-04-17T15:30:00\"\n",
      "}\n"
     ]
    }
   ],
   "source": [
    "\n",
    "# ───────────────────── quick CLI test ───────────────────────\n",
    "if __name__ == \"__main__\":\n",
    "    test_path = \"/mnt/e/Projects/Vinal-hackathon/user_image_2.png\"   # change as needed\n",
    "    result = analyse_event_poster(test_path)\n",
    "    print(json.dumps(result, indent=2, ensure_ascii=False))\n"
   ]
  },
  {
   "cell_type": "code",
   "execution_count": 20,
   "metadata": {},
   "outputs": [],
   "source": [
    "def create_event_ics(result: dict,\n",
    "                     filename: str = \"event.ics\",\n",
    "                     default_duration_minutes: int = 60) -> bool:\n",
    "    from datetime import datetime, timedelta, timezone\n",
    "    from pathlib import Path\n",
    "\n",
    "    if str(result.get(\"is_valid_event_poster\", \"\")).lower() != \"true\":\n",
    "        return False\n",
    "\n",
    "    start_dt = datetime.fromisoformat(result[\"event_datetime_iso\"])\n",
    "    if start_dt.tzinfo is None:\n",
    "        start_dt = start_dt.replace(tzinfo=timezone.utc)\n",
    "    end_dt = start_dt + timedelta(minutes=default_duration_minutes)\n",
    "\n",
    "    # formatter\n",
    "    zfmt = \"%Y%m%dT%H%M%SZ\"\n",
    "    def z(dt): return dt.astimezone(timezone.utc).strftime(zfmt)\n",
    "\n",
    "    ical_lines = [\n",
    "        \"BEGIN:VCALENDAR\",\n",
    "        \"VERSION:2.0\",\n",
    "        \"PRODID:-//EventPosterParser 1.0//EN\",\n",
    "        \"METHOD:PUBLISH\",                        # <-- NEW\n",
    "        \"CALSCALE:GREGORIAN\",\n",
    "        \"BEGIN:VEVENT\",\n",
    "        f\"UID:{int(start_dt.timestamp())}@eventposter\",\n",
    "        f\"DTSTAMP:{z(datetime.utcnow())}\",\n",
    "        f\"DTSTART:{z(start_dt)}\",\n",
    "        f\"DTEND:{z(end_dt)}\",\n",
    "        f\"SUMMARY:{result.get('event_name','Untitled Event')}\",\n",
    "        \"END:VEVENT\",\n",
    "        \"END:VCALENDAR\"\n",
    "    ]\n",
    "\n",
    "    # Write with CRLF endings\n",
    "    Path(filename).write_text(\"\\r\\n\".join(ical_lines) + \"\\r\\n\",\n",
    "                              encoding=\"utf-8\")\n",
    "    return True\n"
   ]
  },
  {
   "cell_type": "code",
   "execution_count": 21,
   "metadata": {},
   "outputs": [
    {
     "name": "stderr",
     "output_type": "stream",
     "text": [
      "/tmp/ipykernel_21387/4191746347.py:27: DeprecationWarning: datetime.datetime.utcnow() is deprecated and scheduled for removal in a future version. Use timezone-aware objects to represent datetimes in UTC: datetime.datetime.now(datetime.UTC).\n",
      "  f\"DTSTAMP:{z(datetime.utcnow())}\",\n"
     ]
    }
   ],
   "source": [
    "success = create_event_ics(result)   # writes event.ics, success == True\n"
   ]
  },
  {
   "cell_type": "code",
   "execution_count": 8,
   "metadata": {},
   "outputs": [
    {
     "name": "stdout",
     "output_type": "stream",
     "text": [
      "Gmail response dict (empty means accepted): {}\n"
     ]
    }
   ],
   "source": [
    "import smtplib, os\n",
    "from email.mime.multipart import MIMEMultipart\n",
    "from email.mime.text import MIMEText\n",
    "from email.mime.application import MIMEApplication   # good enough for .ics\n",
    "\n",
    "# ------------------------------------------------------------------\n",
    "# 1) CONFIGURE THESE FOUR LINES ONLY --------------------------------\n",
    "SENDER   = \"veganman2018@gmail.com\"\n",
    "APP_PWD  = \"ckwvrboupappkpdc\"               # 16‑chars, no spaces\n",
    "RECIPIENTS = [\n",
    "    \"Vinal.Jain@UTDallas.edu\",\n",
    "    \"vxj230003@UTDallas.edu\",\n",
    "    \"virat-kumar@outlook.com\",\n",
    "    \"vk001716@gmail.com\"\n",
    "]\n",
    "ICS_PATH = \"/mnt/e/Projects/Vinal-hackathon/event.ics\"\n",
    "# ------------------------------------------------------------------\n",
    "\n",
    "# -- Build the message ------------------------------------------------\n",
    "msg               = MIMEMultipart(\"mixed\")\n",
    "msg[\"From\"]       = SENDER\n",
    "msg[\"To\"]         = \", \".join(RECIPIENTS)\n",
    "msg[\"Subject\"]    = \"Add your event\"\n",
    "\n",
    "# 1️⃣  Body (plain text helps spam filters)\n",
    "body_text = (\n",
    "    \"Hi team,\\n\\n\"\n",
    "    \"Kindly find the calendar invite attached. \"\n",
    "    \"Open it to add the event to your calendar.\\n\\n\"\n",
    "    \"Regards,\\nVirat\\n\"\n",
    ")\n",
    "msg.attach(MIMEText(body_text, \"plain\"))\n",
    "\n",
    "# 2️⃣  Attachment (.ics)\n",
    "basename = os.path.basename(ICS_PATH)\n",
    "with open(ICS_PATH, \"rb\") as f:\n",
    "    part = MIMEApplication(f.read(), Name=basename)\n",
    "    part['Content-Disposition'] = f'attachment; filename=\"{basename}\"'\n",
    "    part['Content-Type']       = 'text/calendar; method=REQUEST; name=\"{}\"'.format(basename)\n",
    "    msg.attach(part)\n",
    "\n",
    "# -- Send -------------------------------------------------------------\n",
    "with smtplib.SMTP_SSL(\"smtp.gmail.com\", 465) as smtp:\n",
    "    smtp.login(SENDER, APP_PWD)\n",
    "    result = smtp.sendmail(SENDER, RECIPIENTS, msg.as_string())\n",
    "\n",
    "print(\"Gmail response dict (empty means accepted):\", result)\n"
   ]
  },
  {
   "cell_type": "code",
   "execution_count": null,
   "metadata": {},
   "outputs": [],
   "source": []
  }
 ],
 "metadata": {
  "kernelspec": {
   "display_name": ".venv",
   "language": "python",
   "name": "python3"
  },
  "language_info": {
   "codemirror_mode": {
    "name": "ipython",
    "version": 3
   },
   "file_extension": ".py",
   "mimetype": "text/x-python",
   "name": "python",
   "nbconvert_exporter": "python",
   "pygments_lexer": "ipython3",
   "version": "3.12.3"
  }
 },
 "nbformat": 4,
 "nbformat_minor": 2
}
